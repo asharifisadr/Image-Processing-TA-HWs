{
 "cells": [
  {
   "cell_type": "code",
   "execution_count": 1,
   "id": "4c4ba103-ffc2-4c3c-a442-430ae0977638",
   "metadata": {},
   "outputs": [
    {
     "name": "stdout",
     "output_type": "stream",
     "text": [
      "False\n"
     ]
    }
   ],
   "source": [
    "import numpy as np\n",
    "import matplotlib.pyplot as plt\n",
    "import cv2 as cv\n",
    "\n",
    "intersection = lambda img1, img2: np.min((img1, img2), 0)\n",
    "difference = lambda img1, img2: img1 - intersection(img1, img2)\n",
    "\n",
    "def save(img, s):\n",
    "    img[img<127.5] = 0\n",
    "    img[img>=127.5] = 255\n",
    "    cv.imwrite(s, img)\n",
    "\n",
    "img = cv.imread('4_1.png', 0)\n",
    "\n",
    "kernel = cv.getStructuringElement(cv.MORPH_RECT, (3, 3))\n",
    "kernel_1 = cv.getStructuringElement(cv.MORPH_RECT, (70, 70))\n",
    "\n",
    "img_1 = cv.morphologyEx(img, cv.MORPH_CLOSE, kernel_1)\n",
    "\n",
    "img_2 = img_1 - cv.erode(img_1, kernel)\n",
    "\n",
    "img_3 = cv.imread('chopper.png', 0)\n",
    "# img_4 = img_1 - img_3\n",
    "img_4 = difference(img_1, img_3)\n",
    "print(np.any(img_4 == 1))\n",
    "\n",
    "for x in (img, img_1, img_2, img_3, img_4):\n",
    "    cv.imshow('win', x)\n",
    "    cv.waitKey(1000)\n",
    "\n"
   ]
  },
  {
   "cell_type": "code",
   "execution_count": null,
   "id": "0878efc4-59d0-4766-94f4-dce0dd638cd7",
   "metadata": {},
   "outputs": [],
   "source": [
    "mg=cv.imread('Blobs.png' , 0) \n",
    "\n",
    "plt.imshow(img, cmap='gray' , vmin = 0, vmax = 255)\n",
    "\n",
    "#A\n",
    "kernel1 = cv.getStructuringElement(cv.MORPH_ELLIPSE, (55,55))\n",
    "\n",
    "closing = cv.morphologyEx(img, cv.MORPH_CLOSE, kernel1)\n",
    "\n",
    "kernel1 = cv.getStructuringElement(cv.MORPH_ELLIPSE, (95,95))\n",
    "\n",
    "opening = cv.morphologyEx(closing, cv.MORPH_OPEN, kernel1)\n",
    "\n",
    "plt.figure(figsize=(20,20))\n",
    "\n",
    "\n",
    "\n",
    "plt.subplot(2,2,1)\n",
    "plt.title('texure segmentation')\n",
    "plt.imshow(closing , cmap = 'gray' , vmin = 0 , vmax = 255)\n",
    "plt.show()\n",
    "plt.imshow(opening , cmap = 'gray' , vmin = 0 , vmax = 255)\n",
    "plt.show()\n",
    "\n",
    "cv.waitKey(0)\n",
    "cv.destroyAllWindows()\n"
   ]
  },
  {
   "cell_type": "code",
   "execution_count": null,
   "id": "ed1dbe82-ca8d-4702-be43-48341901f682",
   "metadata": {},
   "outputs": [],
   "source": [
    "img=cv.imread('Blobs.png' , 0) \n",
    "img = 255 -img\n",
    "plt.imshow(img, cmap='gray' , vmin = 0, vmax = 255)\n",
    "plt.show()\n",
    "#A\n",
    "array = np.zeros(20, dtype='float32')\n",
    "k = 0 \n",
    "for i in range(5, 105,5):\n",
    "    \n",
    "    kernel1 = cv.getStructuringElement(cv.MORPH_ELLIPSE, (i,i))\n",
    "    img = cv.morphologyEx(img, cv.MORPH_OPEN, kernel1)\n",
    "    array[k] = np.sum(img[:, :])\n",
    "    #print(array[k])\n",
    "    k = k + 1\n",
    "    plt.imshow(img , cmap='gray' , vmin = 0 , vmax = 255 )\n",
    "    plt.show()\n",
    "print(i)\n",
    "plt.imshow(img , cmap='gray' , vmin = 0 , vmax = 255 )\n",
    "plt.show()\n",
    "plt.xlabel(\"r\")\n",
    "plt.ylabel(\"diffrences in surface area\")\n",
    "\n",
    "x = np.array([5,10,15,20,25,30,35,40,45 ,50,55,60,65,70,75,80,85,90,95,100])\n",
    "#x = np.zeros(151, dtype='float64')\n",
    "#for i in range (1,152):\n",
    "    #x[i-1] = i\n",
    "\n",
    "#print(x[150])\n",
    "plt.plot (x,array)\n",
    "plt.show()\n",
    "print(array)\n",
    "array1 = -1* np.diff(array)\n",
    "print(array1)\n",
    "array[0:19] = array1\n",
    "array[19:20] = 0\n",
    "plt.plot (x,array)\n",
    "plt.show()"
   ]
  }
 ],
 "metadata": {
  "kernelspec": {
   "display_name": "Python 3 (ipykernel)",
   "language": "python",
   "name": "python3"
  },
  "language_info": {
   "codemirror_mode": {
    "name": "ipython",
    "version": 3
   },
   "file_extension": ".py",
   "mimetype": "text/x-python",
   "name": "python",
   "nbconvert_exporter": "python",
   "pygments_lexer": "ipython3",
   "version": "3.9.7"
  }
 },
 "nbformat": 4,
 "nbformat_minor": 5
}
